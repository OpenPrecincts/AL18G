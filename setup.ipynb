{
 "cells": [
  {
   "cell_type": "markdown",
   "metadata": {},
   "source": [
    "# Setup\n",
    "\n",
    "This file should be filled out once per project. It will generate the template that the rest of the project will use."
   ]
  },
  {
   "cell_type": "code",
   "execution_count": 1,
   "metadata": {},
   "outputs": [],
   "source": [
    "import pandas as pd\n",
    "import geopandas as gpd\n",
    "import os\n",
    "from shutil import copyfile\n",
    "\n",
    "from op_verification.reference_data import (\n",
    "    geoid_to_county_name,\n",
    "    state_to_fips,\n",
    "    state_to_state_po,\n",
    "    state_abbreviation_to_state_name,\n",
    "    state_fip_to_county_to_geoid,\n",
    ")"
   ]
  },
  {
   "cell_type": "code",
   "execution_count": 14,
   "metadata": {},
   "outputs": [
    {
     "name": "stdout",
     "output_type": "stream",
     "text": [
      "State: Alabama  | State Fips: 1  | State PO: AL  |  n_counties: 67\n"
     ]
    }
   ],
   "source": [
    "state = \"REPLACE ME\"\n",
    "assert state in state_to_fips.keys()\n",
    "state_fips = state_to_fips[state]\n",
    "state_po = state_to_state_po[state]\n",
    "n_counties = len(state_fip_to_county_to_geoid[1])\n",
    "print(\"State:\",state,\" | State Fips:\",state_fips,\" | State PO:\", state_po, \" |  n_counties:\", n_counties)"
   ]
  },
  {
   "cell_type": "markdown",
   "metadata": {},
   "source": [
    "### Import the datasets\n",
    "\n",
    "If you will be using any other statewide datasets (precinct shapefiles or election results) import them below. \n",
    "\n",
    "* `gdf` denotes \"GeoDataFrame\" which is the data structure that will be used to hold shapefiles\n",
    "* `df` denotes \"DataFrame\" which is the data structure that will be used to hold election results"
   ]
  },
  {
   "cell_type": "code",
   "execution_count": 15,
   "metadata": {},
   "outputs": [
    {
     "data": {
      "text/html": [
       "<div>\n",
       "<style scoped>\n",
       "    .dataframe tbody tr th:only-of-type {\n",
       "        vertical-align: middle;\n",
       "    }\n",
       "\n",
       "    .dataframe tbody tr th {\n",
       "        vertical-align: top;\n",
       "    }\n",
       "\n",
       "    .dataframe thead th {\n",
       "        text-align: right;\n",
       "    }\n",
       "</style>\n",
       "<table border=\"1\" class=\"dataframe\">\n",
       "  <thead>\n",
       "    <tr style=\"text-align: right;\">\n",
       "      <th></th>\n",
       "      <th>STATEFP</th>\n",
       "      <th>COUNTYFP</th>\n",
       "      <th>VTDST</th>\n",
       "      <th>NAMELSAD</th>\n",
       "      <th>VTDI</th>\n",
       "      <th>LSAD</th>\n",
       "      <th>CHNG_TYPE</th>\n",
       "      <th>ORIG_NAME</th>\n",
       "      <th>ORIG_CODE</th>\n",
       "      <th>RELATE</th>\n",
       "      <th>NAME</th>\n",
       "      <th>VINTAGE</th>\n",
       "      <th>FUNCSTAT</th>\n",
       "      <th>JUSTIFY</th>\n",
       "      <th>MTFCC</th>\n",
       "      <th>geometry</th>\n",
       "    </tr>\n",
       "  </thead>\n",
       "  <tbody>\n",
       "    <tr>\n",
       "      <th>0</th>\n",
       "      <td>01</td>\n",
       "      <td>003</td>\n",
       "      <td>000001</td>\n",
       "      <td>Little River VFD</td>\n",
       "      <td>A</td>\n",
       "      <td>00</td>\n",
       "      <td>None</td>\n",
       "      <td>None</td>\n",
       "      <td>None</td>\n",
       "      <td>None</td>\n",
       "      <td>Little River VFD</td>\n",
       "      <td>90</td>\n",
       "      <td>N</td>\n",
       "      <td>None</td>\n",
       "      <td>G5240</td>\n",
       "      <td>POLYGON Z ((-87.85327 31.25596 0.00000, -87.85...</td>\n",
       "    </tr>\n",
       "    <tr>\n",
       "      <th>1</th>\n",
       "      <td>01</td>\n",
       "      <td>003</td>\n",
       "      <td>000002</td>\n",
       "      <td>Tensaw VFD</td>\n",
       "      <td>A</td>\n",
       "      <td>00</td>\n",
       "      <td>None</td>\n",
       "      <td>None</td>\n",
       "      <td>None</td>\n",
       "      <td>None</td>\n",
       "      <td>Tensaw VFD</td>\n",
       "      <td>90</td>\n",
       "      <td>N</td>\n",
       "      <td>None</td>\n",
       "      <td>G5240</td>\n",
       "      <td>POLYGON Z ((-87.97692 31.08658 0.00000, -87.97...</td>\n",
       "    </tr>\n",
       "    <tr>\n",
       "      <th>2</th>\n",
       "      <td>01</td>\n",
       "      <td>003</td>\n",
       "      <td>000003</td>\n",
       "      <td>Old Vaughn School</td>\n",
       "      <td>A</td>\n",
       "      <td>00</td>\n",
       "      <td>None</td>\n",
       "      <td>None</td>\n",
       "      <td>None</td>\n",
       "      <td>None</td>\n",
       "      <td>Old Vaughn School</td>\n",
       "      <td>90</td>\n",
       "      <td>N</td>\n",
       "      <td>None</td>\n",
       "      <td>G5240</td>\n",
       "      <td>POLYGON Z ((-87.96499 30.96896 0.00000, -87.96...</td>\n",
       "    </tr>\n",
       "    <tr>\n",
       "      <th>3</th>\n",
       "      <td>01</td>\n",
       "      <td>003</td>\n",
       "      <td>000004</td>\n",
       "      <td>Crossroads Durant Chapel Bapt Church</td>\n",
       "      <td>A</td>\n",
       "      <td>00</td>\n",
       "      <td>None</td>\n",
       "      <td>None</td>\n",
       "      <td>None</td>\n",
       "      <td>None</td>\n",
       "      <td>Crossroads Durant Chapel Bapt Church</td>\n",
       "      <td>90</td>\n",
       "      <td>N</td>\n",
       "      <td>None</td>\n",
       "      <td>G5240</td>\n",
       "      <td>POLYGON Z ((-87.98693 30.87518 0.00000, -87.98...</td>\n",
       "    </tr>\n",
       "    <tr>\n",
       "      <th>4</th>\n",
       "      <td>01</td>\n",
       "      <td>003</td>\n",
       "      <td>000005</td>\n",
       "      <td>Douglasville Boykin Ctr</td>\n",
       "      <td>A</td>\n",
       "      <td>00</td>\n",
       "      <td>None</td>\n",
       "      <td>None</td>\n",
       "      <td>None</td>\n",
       "      <td>None</td>\n",
       "      <td>Douglasville Boykin Ctr</td>\n",
       "      <td>90</td>\n",
       "      <td>N</td>\n",
       "      <td>None</td>\n",
       "      <td>G5240</td>\n",
       "      <td>POLYGON Z ((-87.80901 30.85498 0.00000, -87.80...</td>\n",
       "    </tr>\n",
       "  </tbody>\n",
       "</table>\n",
       "</div>"
      ],
      "text/plain": [
       "  STATEFP COUNTYFP   VTDST                              NAMELSAD VTDI LSAD  \\\n",
       "0      01      003  000001                      Little River VFD    A   00   \n",
       "1      01      003  000002                            Tensaw VFD    A   00   \n",
       "2      01      003  000003                     Old Vaughn School    A   00   \n",
       "3      01      003  000004  Crossroads Durant Chapel Bapt Church    A   00   \n",
       "4      01      003  000005               Douglasville Boykin Ctr    A   00   \n",
       "\n",
       "  CHNG_TYPE ORIG_NAME ORIG_CODE RELATE                                  NAME  \\\n",
       "0      None      None      None   None                      Little River VFD   \n",
       "1      None      None      None   None                            Tensaw VFD   \n",
       "2      None      None      None   None                     Old Vaughn School   \n",
       "3      None      None      None   None  Crossroads Durant Chapel Bapt Church   \n",
       "4      None      None      None   None               Douglasville Boykin Ctr   \n",
       "\n",
       "  VINTAGE FUNCSTAT JUSTIFY  MTFCC  \\\n",
       "0      90        N    None  G5240   \n",
       "1      90        N    None  G5240   \n",
       "2      90        N    None  G5240   \n",
       "3      90        N    None  G5240   \n",
       "4      90        N    None  G5240   \n",
       "\n",
       "                                            geometry  \n",
       "0  POLYGON Z ((-87.85327 31.25596 0.00000, -87.85...  \n",
       "1  POLYGON Z ((-87.97692 31.08658 0.00000, -87.97...  \n",
       "2  POLYGON Z ((-87.96499 30.96896 0.00000, -87.96...  \n",
       "3  POLYGON Z ((-87.98693 30.87518 0.00000, -87.98...  \n",
       "4  POLYGON Z ((-87.80901 30.85498 0.00000, -87.80...  "
      ]
     },
     "execution_count": 15,
     "metadata": {},
     "output_type": "execute_result"
    }
   ],
   "source": [
    "statewide_shapefile_file_path = 'data/shapefiles/census_partnership/compiled_vtds'\n",
    "statewide_shapefile_gdf = gpd.read_file(statewide_shapefile_file_path)\n",
    "statewide_shapefile_gdf.head()"
   ]
  },
  {
   "cell_type": "code",
   "execution_count": 16,
   "metadata": {},
   "outputs": [
    {
     "data": {
      "text/html": [
       "<div>\n",
       "<style scoped>\n",
       "    .dataframe tbody tr th:only-of-type {\n",
       "        vertical-align: middle;\n",
       "    }\n",
       "\n",
       "    .dataframe tbody tr th {\n",
       "        vertical-align: top;\n",
       "    }\n",
       "\n",
       "    .dataframe thead th {\n",
       "        text-align: right;\n",
       "    }\n",
       "</style>\n",
       "<table border=\"1\" class=\"dataframe\">\n",
       "  <thead>\n",
       "    <tr style=\"text-align: right;\">\n",
       "      <th></th>\n",
       "      <th>county</th>\n",
       "      <th>precinct</th>\n",
       "      <th>Gov_DEM</th>\n",
       "      <th>Gov_REP</th>\n",
       "      <th>LtGov_DEM</th>\n",
       "      <th>LtGov_REP</th>\n",
       "      <th>StHOR_DEM</th>\n",
       "      <th>StHOR_IND</th>\n",
       "      <th>StHOR_LIB</th>\n",
       "      <th>StHOR_REP</th>\n",
       "      <th>StSen_DEM</th>\n",
       "      <th>StSen_IND</th>\n",
       "      <th>StSen_REP</th>\n",
       "      <th>SP_DEM</th>\n",
       "      <th>SP_LIB</th>\n",
       "      <th>SP_REP</th>\n",
       "      <th>USHOR_DEM</th>\n",
       "      <th>USHOR_REP</th>\n",
       "    </tr>\n",
       "  </thead>\n",
       "  <tbody>\n",
       "    <tr>\n",
       "      <th>0</th>\n",
       "      <td>Autauga County</td>\n",
       "      <td>10 JONES COMMUNITY CTR</td>\n",
       "      <td>105.0</td>\n",
       "      <td>168.0</td>\n",
       "      <td>109.0</td>\n",
       "      <td>162.0</td>\n",
       "      <td>127.0</td>\n",
       "      <td>NaN</td>\n",
       "      <td>NaN</td>\n",
       "      <td>NaN</td>\n",
       "      <td>NaN</td>\n",
       "      <td>NaN</td>\n",
       "      <td>170.0</td>\n",
       "      <td>98.0</td>\n",
       "      <td>NaN</td>\n",
       "      <td>110.0</td>\n",
       "      <td>118.0</td>\n",
       "      <td>153.0</td>\n",
       "    </tr>\n",
       "    <tr>\n",
       "      <th>1</th>\n",
       "      <td>Autauga County</td>\n",
       "      <td>100 TRINITY METHODIST</td>\n",
       "      <td>333.0</td>\n",
       "      <td>1436.0</td>\n",
       "      <td>288.0</td>\n",
       "      <td>1470.0</td>\n",
       "      <td>252.0</td>\n",
       "      <td>NaN</td>\n",
       "      <td>NaN</td>\n",
       "      <td>1499.0</td>\n",
       "      <td>NaN</td>\n",
       "      <td>NaN</td>\n",
       "      <td>1494.0</td>\n",
       "      <td>150.0</td>\n",
       "      <td>NaN</td>\n",
       "      <td>916.0</td>\n",
       "      <td>391.0</td>\n",
       "      <td>1375.0</td>\n",
       "    </tr>\n",
       "    <tr>\n",
       "      <th>2</th>\n",
       "      <td>Autauga County</td>\n",
       "      <td>110 CENTRAL AL ELECTRIC</td>\n",
       "      <td>149.0</td>\n",
       "      <td>106.0</td>\n",
       "      <td>157.0</td>\n",
       "      <td>97.0</td>\n",
       "      <td>166.0</td>\n",
       "      <td>NaN</td>\n",
       "      <td>NaN</td>\n",
       "      <td>NaN</td>\n",
       "      <td>NaN</td>\n",
       "      <td>NaN</td>\n",
       "      <td>107.0</td>\n",
       "      <td>138.0</td>\n",
       "      <td>NaN</td>\n",
       "      <td>59.0</td>\n",
       "      <td>159.0</td>\n",
       "      <td>94.0</td>\n",
       "    </tr>\n",
       "    <tr>\n",
       "      <th>3</th>\n",
       "      <td>Autauga County</td>\n",
       "      <td>140 AUTAUGAVILLE VFD</td>\n",
       "      <td>308.0</td>\n",
       "      <td>280.0</td>\n",
       "      <td>314.0</td>\n",
       "      <td>271.0</td>\n",
       "      <td>351.0</td>\n",
       "      <td>NaN</td>\n",
       "      <td>NaN</td>\n",
       "      <td>NaN</td>\n",
       "      <td>NaN</td>\n",
       "      <td>NaN</td>\n",
       "      <td>296.0</td>\n",
       "      <td>267.0</td>\n",
       "      <td>NaN</td>\n",
       "      <td>186.0</td>\n",
       "      <td>326.0</td>\n",
       "      <td>254.0</td>\n",
       "    </tr>\n",
       "    <tr>\n",
       "      <th>4</th>\n",
       "      <td>Autauga County</td>\n",
       "      <td>150 PRATTMONT BAPTIST CH</td>\n",
       "      <td>175.0</td>\n",
       "      <td>472.0</td>\n",
       "      <td>163.0</td>\n",
       "      <td>478.0</td>\n",
       "      <td>158.0</td>\n",
       "      <td>NaN</td>\n",
       "      <td>NaN</td>\n",
       "      <td>482.0</td>\n",
       "      <td>NaN</td>\n",
       "      <td>NaN</td>\n",
       "      <td>507.0</td>\n",
       "      <td>94.0</td>\n",
       "      <td>NaN</td>\n",
       "      <td>300.0</td>\n",
       "      <td>196.0</td>\n",
       "      <td>448.0</td>\n",
       "    </tr>\n",
       "  </tbody>\n",
       "</table>\n",
       "</div>"
      ],
      "text/plain": [
       "           county                  precinct  Gov_DEM  Gov_REP  LtGov_DEM  \\\n",
       "0  Autauga County    10 JONES COMMUNITY CTR    105.0    168.0      109.0   \n",
       "1  Autauga County     100 TRINITY METHODIST    333.0   1436.0      288.0   \n",
       "2  Autauga County   110 CENTRAL AL ELECTRIC    149.0    106.0      157.0   \n",
       "3  Autauga County      140 AUTAUGAVILLE VFD    308.0    280.0      314.0   \n",
       "4  Autauga County  150 PRATTMONT BAPTIST CH    175.0    472.0      163.0   \n",
       "\n",
       "   LtGov_REP  StHOR_DEM  StHOR_IND  StHOR_LIB  StHOR_REP  StSen_DEM  \\\n",
       "0      162.0      127.0        NaN        NaN        NaN        NaN   \n",
       "1     1470.0      252.0        NaN        NaN     1499.0        NaN   \n",
       "2       97.0      166.0        NaN        NaN        NaN        NaN   \n",
       "3      271.0      351.0        NaN        NaN        NaN        NaN   \n",
       "4      478.0      158.0        NaN        NaN      482.0        NaN   \n",
       "\n",
       "   StSen_IND  StSen_REP  SP_DEM  SP_LIB  SP_REP  USHOR_DEM  USHOR_REP  \n",
       "0        NaN      170.0    98.0     NaN   110.0      118.0      153.0  \n",
       "1        NaN     1494.0   150.0     NaN   916.0      391.0     1375.0  \n",
       "2        NaN      107.0   138.0     NaN    59.0      159.0       94.0  \n",
       "3        NaN      296.0   267.0     NaN   186.0      326.0      254.0  \n",
       "4        NaN      507.0    94.0     NaN   300.0      196.0      448.0  "
      ]
     },
     "execution_count": 16,
     "metadata": {},
     "output_type": "execute_result"
    }
   ],
   "source": [
    "statewide_election_results_file_path = 'data/precinct_election_results/AL_G18_pivoted.csv'\n",
    "statewide_results_df = pd.read_csv(statewide_election_results_file_path)\n",
    "statewide_results_df.head()"
   ]
  },
  {
   "cell_type": "markdown",
   "metadata": {},
   "source": [
    "### Precondition: County ID\n",
    "\n",
    "Make a column in `statewide_shapefile_gdf` and `statewide_results_df` called `county_id` with a common naming scheme. County name or county fips code would work. I highly reccomend using county name e.g. \"Essex County\" for readablity. You can use the helper functions below to convert between county FIPS and county name."
   ]
  },
  {
   "cell_type": "code",
   "execution_count": 18,
   "metadata": {},
   "outputs": [
    {
     "name": "stdout",
     "output_type": "stream",
     "text": [
      "statewide_shapefile_gdf unmatched counties:  set()\n",
      "statewide_results_df unmatched counties:  {'Tuscaloosa County'}\n"
     ]
    }
   ],
   "source": [
    "def get_county_name(county_fips):\n",
    "    geoid = str(state_fips).zfill(2) + str(county_fips).zfill(3)\n",
    "    if(len(geoid) != 5):\n",
    "        print(geoid)\n",
    "    assert(len(geoid) == 5)\n",
    "    return geoid_to_county_name[geoid]\n",
    "\n",
    "county_to_geoid = state_fip_to_county_to_geoid[int(state_fips)]\n",
    "def get_geoid(county_name):\n",
    "    return county_to_geoid[county_name]\n",
    "\n",
    "# TODO: Pass the precondition described above which takes the form of an assert statement in this cell.\n",
    "statewide_shapefile_gdf['county_id'] = statewide_shapefile_gdf['COUNTYFP'].map(get_county_name)\n",
    "statewide_results_df['county_id'] = statewide_results_df['county']\n",
    "n_counties = 67\n",
    "assert 'county_id' in statewide_shapefile_gdf.columns and 'county_id' in statewide_results_df.columns\n",
    "county_set_statewide_shapefile_gdf = set(statewide_shapefile_gdf['county_id'].unique())\n",
    "county_set_statewide_results_df = set(statewide_results_df['county_id'].unique())\n",
    "print(\"statewide_shapefile_gdf unmatched counties: \", county_set_statewide_shapefile_gdf.difference(county_set_statewide_results_df))\n",
    "print(\"statewide_results_df unmatched counties: \", county_set_statewide_results_df.difference(county_set_statewide_shapefile_gdf))\n",
    "assert county_set_statewide_shapefile_gdf.intersection(county_set_statewide_results_df) != set()\n",
    "assert len(county_set_statewide_shapefile_gdf.union(county_set_statewide_results_df)) == int(n_counties)"
   ]
  },
  {
   "cell_type": "markdown",
   "metadata": {},
   "source": [
    "### Precondition: Precinct Name\n",
    "\n",
    "Identify the column that should contains the precinct names to be matched by naming it `original_precinct_name`"
   ]
  },
  {
   "cell_type": "code",
   "execution_count": 19,
   "metadata": {},
   "outputs": [],
   "source": [
    "# TODO: Pass the precondition described above which takes the form of an assert statement in this cell.\n",
    "statewide_shapefile_gdf['original_precinct_name'] = statewide_shapefile_gdf['NAMELSAD']\n",
    "statewide_results_df['original_precinct_name'] = statewide_results_df['precinct']\n",
    "assert 'original_precinct_name' in statewide_shapefile_gdf.columns and 'original_precinct_name' in statewide_results_df.columns"
   ]
  },
  {
   "cell_type": "markdown",
   "metadata": {},
   "source": [
    "## Find easier counties"
   ]
  },
  {
   "cell_type": "code",
   "execution_count": 24,
   "metadata": {},
   "outputs": [],
   "source": [
    "gdf = statewide_shapefile_gdf.copy()\n",
    "df = statewide_results_df.copy()"
   ]
  },
  {
   "cell_type": "code",
   "execution_count": 25,
   "metadata": {},
   "outputs": [
    {
     "data": {
      "text/plain": [
       "county_id\n",
       "Bibb County           10\n",
       "Perry County          14\n",
       "Lowndes County        14\n",
       "Coosa County          14\n",
       "Henry County          15\n",
       "                    ... \n",
       "Montgomery County     51\n",
       "DeKalb County         53\n",
       "Madison County        76\n",
       "Jefferson County     177\n",
       "Mobile County        193\n",
       "Name: original_precinct_name, Length: 66, dtype: int64"
      ]
     },
     "execution_count": 25,
     "metadata": {},
     "output_type": "execute_result"
    }
   ],
   "source": [
    "cnty_to_n_df = df.groupby('county_id').original_precinct_name.nunique().sort_values()\n",
    "cnty_to_n_df = cnty_to_n_df[cnty_to_n_df.index!='Tuscaloosa County']\n",
    "cnty_to_n_df"
   ]
  },
  {
   "cell_type": "code",
   "execution_count": 26,
   "metadata": {},
   "outputs": [
    {
     "data": {
      "text/plain": [
       "county_id\n",
       "DeKalb County          4\n",
       "Perry County          10\n",
       "Winston County        11\n",
       "Barbour County        11\n",
       "Henry County          13\n",
       "                    ... \n",
       "Montgomery County     49\n",
       "Baldwin County        49\n",
       "Madison County        72\n",
       "Mobile County         88\n",
       "Jefferson County     172\n",
       "Name: original_precinct_name, Length: 66, dtype: int64"
      ]
     },
     "execution_count": 26,
     "metadata": {},
     "output_type": "execute_result"
    }
   ],
   "source": [
    "cnty_to_n_gdf = gdf.groupby('county_id').original_precinct_name.nunique().sort_values()\n",
    "cnty_to_n_gdf = cnty_to_n_gdf[cnty_to_n_gdf.index!='Genesee County']\n",
    "cnty_to_n_gdf"
   ]
  },
  {
   "cell_type": "code",
   "execution_count": 27,
   "metadata": {},
   "outputs": [
    {
     "data": {
      "text/plain": [
       "county_id\n",
       "Lowndes County       14\n",
       "Chilton County       18\n",
       "Russell County       19\n",
       "Tallapoosa County    28\n",
       "Conecuh County       29\n",
       "Etowah County        33\n",
       "Name: original_precinct_name, dtype: int64"
      ]
     },
     "execution_count": 27,
     "metadata": {},
     "output_type": "execute_result"
    }
   ],
   "source": [
    "cnty_to_n_gdf[cnty_to_n_gdf.sort_index() == cnty_to_n_df.sort_index()]"
   ]
  },
  {
   "cell_type": "code",
   "execution_count": 38,
   "metadata": {},
   "outputs": [
    {
     "data": {
      "text/plain": [
       "28.28787878787879"
      ]
     },
     "execution_count": 38,
     "metadata": {},
     "output_type": "execute_result"
    }
   ],
   "source": [
    "gdf_mean_precs = cnty_to_n_gdf.mean()\n",
    "gdf_mean_precs"
   ]
  },
  {
   "cell_type": "code",
   "execution_count": 39,
   "metadata": {},
   "outputs": [
    {
     "data": {
      "text/plain": [
       "33.09090909090909"
      ]
     },
     "execution_count": 39,
     "metadata": {},
     "output_type": "execute_result"
    }
   ],
   "source": [
    "df_mean_precs = cnty_to_n_df.mean()\n",
    "df_mean_precs"
   ]
  },
  {
   "cell_type": "code",
   "execution_count": 37,
   "metadata": {},
   "outputs": [
    {
     "data": {
      "text/plain": [
       "6.681818181818182"
      ]
     },
     "execution_count": 37,
     "metadata": {},
     "output_type": "execute_result"
    }
   ],
   "source": [
    "avg_abs_diff = (cnty_to_n_gdf - cnty_to_n_df).abs().mean()\n",
    "avg_abs_diff"
   ]
  },
  {
   "cell_type": "code",
   "execution_count": 40,
   "metadata": {},
   "outputs": [
    {
     "data": {
      "text/plain": [
       "0.2019230769230769"
      ]
     },
     "execution_count": 40,
     "metadata": {},
     "output_type": "execute_result"
    }
   ],
   "source": [
    "avg_abs_diff / df_mean_precs"
   ]
  },
  {
   "cell_type": "code",
   "execution_count": 41,
   "metadata": {},
   "outputs": [
    {
     "data": {
      "text/plain": [
       "0.2362078200321371"
      ]
     },
     "execution_count": 41,
     "metadata": {},
     "output_type": "execute_result"
    }
   ],
   "source": [
    "avg_abs_diff / gdf_mean_precs"
   ]
  },
  {
   "cell_type": "markdown",
   "metadata": {},
   "source": [
    "On average there are more precincts in the election results that VTDs."
   ]
  },
  {
   "cell_type": "markdown",
   "metadata": {},
   "source": [
    "The next cell makes a directory where all the county specific matching will take place and initializes each county matching folder."
   ]
  },
  {
   "cell_type": "code",
   "execution_count": 28,
   "metadata": {},
   "outputs": [],
   "source": [
    "path = './matching'\n",
    "os.mkdir(path)\n",
    "\n",
    "for county_id in county_set_statewide_shapefile_gdf.union(county_set_statewide_results_df):\n",
    "    # Make a folder for this county\n",
    "    os.mkdir('/'.join([path,county_id]))\n",
    "    \n",
    "    # Make the Matching Notebook\n",
    "    notebook_filename = '{} Precinct Matching.ipynb'.format(county_id)\n",
    "    notebook_filepath = \"/\".join([path,county_id,notebook_filename])\n",
    "    copyfile('precinct_matching_framework.ipynb',notebook_filepath)\n",
    "    \n",
    "    # Read in the file\n",
    "    with open('precinct_matching_framework.ipynb', 'r') as file:\n",
    "        precinct_matching_framework = file.read()\n",
    "\n",
    "    # Customize the county_id string\n",
    "    precinct_matching_framework = precinct_matching_framework.replace('<$COUNTY_ID$>', county_id)\n",
    "\n",
    "    # Write the file out again\n",
    "    with open(notebook_filepath, 'w') as file:\n",
    "          file.write(precinct_matching_framework)\n",
    "    \n",
    "    # Initialize a README.md file\n",
    "    with open('/'.join([path,county_id,\"README.md\"]), \"a\") as f:\n",
    "        f.write(\"## Documentation for matching in `county_id` = {}\".format(county_id))\n",
    "    \n",
    "    # Generate CSV for the election results for this county\n",
    "    if county_id in county_set_statewide_results_df:\n",
    "        county_results_filename = 'election_results_county_id={}.csv'.format(county_id)\n",
    "        county_results_df = statewide_results_df[statewide_results_df.county_id == county_id]\n",
    "        county_results_df.to_csv(\"/\".join([path,county_id,county_results_filename]), index=False)\n",
    "    \n",
    "    # Generate Shapefile (for GIS inspection purposes)\n",
    "    if county_id in county_set_statewide_shapefile_gdf:\n",
    "        county_shapefile_filename = 'shapefile_county_id={}'.format(county_id)\n",
    "        county_shapefile_gdf = statewide_shapefile_gdf[statewide_shapefile_gdf.county_id == county_id]\n",
    "        county_shapefile_gdf.to_file(\"/\".join([path,county_id,county_shapefile_filename]))"
   ]
  }
 ],
 "metadata": {
  "kernelspec": {
   "display_name": "venv-al",
   "language": "python",
   "name": "venv-al"
  },
  "language_info": {
   "codemirror_mode": {
    "name": "ipython",
    "version": 3
   },
   "file_extension": ".py",
   "mimetype": "text/x-python",
   "name": "python",
   "nbconvert_exporter": "python",
   "pygments_lexer": "ipython3",
   "version": "3.7.6"
  }
 },
 "nbformat": 4,
 "nbformat_minor": 4
}